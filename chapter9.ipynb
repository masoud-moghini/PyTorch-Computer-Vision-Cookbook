{
  "nbformat": 4,
  "nbformat_minor": 0,
  "metadata": {
    "colab": {
      "provenance": [],
      "mount_file_id": "1S0j9Ky8yEgN1Q6B1GI4JYvAFutBqpfAv",
      "authorship_tag": "ABX9TyPR3xHmNpY/uoOSdoUrkf4Q",
      "include_colab_link": true
    },
    "kernelspec": {
      "name": "python3",
      "display_name": "Python 3"
    },
    "language_info": {
      "name": "python"
    }
  },
  "cells": [
    {
      "cell_type": "markdown",
      "metadata": {
        "id": "view-in-github",
        "colab_type": "text"
      },
      "source": [
        "<a href=\"https://colab.research.google.com/github/masoud-moghini/PyTorch-Computer-Vision-Cookbook/blob/master/chapter9.ipynb\" target=\"_parent\"><img src=\"https://colab.research.google.com/assets/colab-badge.svg\" alt=\"Open In Colab\"/></a>"
      ]
    },
    {
      "cell_type": "code",
      "source": [
        "from google.colab import drive\n",
        "drive.mount('/content/drive')"
      ],
      "metadata": {
        "colab": {
          "base_uri": "https://localhost:8080/"
        },
        "id": "EzP0VWsRQBvP",
        "outputId": "ee2e1a71-6ce8-489b-89af-4ca772acc091"
      },
      "execution_count": null,
      "outputs": [
        {
          "output_type": "stream",
          "name": "stdout",
          "text": [
            "Mounted at /content/drive\n"
          ]
        }
      ]
    },
    {
      "cell_type": "code",
      "source": [
        "import torch\n",
        "from torchvision import transforms\n",
        "from torch.utils.data import Dataset,DataLoader\n",
        "from sklearn.model_selection import train_test_split\n",
        "from pathlib import Path\n",
        "import cv2\n",
        "from random import randint\n",
        "device = 'cuda' if torch.cuda.is_available() else 'cpu'"
      ],
      "metadata": {
        "id": "SpfSww4Tgapy"
      },
      "execution_count": 41,
      "outputs": []
    },
    {
      "cell_type": "code",
      "source": [
        "tfms = transforms.Compose([\n",
        "  transforms.ToTensor(),\n",
        "  transforms.Normalize([0.485, 0.456, 0.406],[0.229, 0.224, 0.225])\n",
        "])"
      ],
      "metadata": {
        "id": "sM3ciIAegqPP"
      },
      "execution_count": 15,
      "outputs": []
    },
    {
      "cell_type": "code",
      "source": [
        "class SegData(Dataset):\n",
        "  def __init__(self, split):\n",
        "    self.items= Path(f'/content/drive/MyDrive/semanticsegmentation/{split}').stem\n",
        "    self.split = split\n",
        "\n",
        "  def __len__(self):\n",
        "    return len(self.items)\n",
        "\n",
        "  def __getitem__(self, idx):\n",
        "    img = cv2.imread(f'/content/drive/MyDrive/semanticsegmentation/{self.split}/{self.items[idx]}.png')\n",
        "    img = cv2.cvtColor(img, cv2.COLOR_BGR2RGB)\n",
        "    img = cv2.resize(img,(224,224))\n",
        "    mask = cv2.cvtColor(img,cv2.COLOR_RGB2GRAY)\n",
        "    return img,mask\n",
        "  def choose(self): return self[randint(len(self))]\n",
        "  def collate_fn(self,batch):\n",
        "    imgs,masks = list(*zip(batch))\n",
        "    imgs = torch.cat([tfms(img.copy()/255)[None] for img in imgs])\n",
        "    masks = torch.cat([tfms(mask.copy()/255)[None] for mask in masks])\n",
        "    return imgs,masks"
      ],
      "metadata": {
        "id": "MEtsFmtogvvD"
      },
      "execution_count": 43,
      "outputs": []
    },
    {
      "cell_type": "code",
      "source": [
        "trn_ds = SegData('train')\n",
        "val_ds = SegData('test')\n",
        "trn_dl = DataLoader(trn_ds, batch_size=4, shuffle=True,collate_fn=trn_ds.collate_fn)\n",
        "val_dl = DataLoader(val_ds, batch_size=1, shuffle=True,collate_fn=val_ds.collate_fn)"
      ],
      "metadata": {
        "id": "_wT0KN8mhiFb"
      },
      "execution_count": 45,
      "outputs": []
    },
    {
      "cell_type": "code",
      "source": [
        "fo.shape"
      ],
      "metadata": {
        "colab": {
          "base_uri": "https://localhost:8080/"
        },
        "id": "o3VlEPRelSV5",
        "outputId": "2649dd22-1ed2-41c2-cb8b-81232cf679ae"
      },
      "execution_count": 35,
      "outputs": [
        {
          "output_type": "execute_result",
          "data": {
            "text/plain": [
              "(4, 2, 3)"
            ]
          },
          "metadata": {},
          "execution_count": 35
        }
      ]
    },
    {
      "cell_type": "code",
      "source": [
        "lo = tfms(fo.copy()/255)"
      ],
      "metadata": {
        "id": "1frV4-LqjgzH"
      },
      "execution_count": 38,
      "outputs": []
    },
    {
      "cell_type": "code",
      "source": [
        "lo.shape"
      ],
      "metadata": {
        "colab": {
          "base_uri": "https://localhost:8080/"
        },
        "id": "cRQ9YhetjjDa",
        "outputId": "75769e4b-46af-4a57-8632-407c60af617a"
      },
      "execution_count": 37,
      "outputs": [
        {
          "output_type": "execute_result",
          "data": {
            "text/plain": [
              "torch.Size([3, 4, 2])"
            ]
          },
          "metadata": {},
          "execution_count": 37
        }
      ]
    },
    {
      "cell_type": "code",
      "source": [],
      "metadata": {
        "id": "pcgITuwYlWRC"
      },
      "execution_count": null,
      "outputs": []
    }
  ]
}